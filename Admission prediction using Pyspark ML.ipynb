{
 "cells": [
  {
   "cell_type": "markdown",
   "id": "1307eceb",
   "metadata": {},
   "source": [
    "## Create a spark session"
   ]
  },
  {
   "cell_type": "code",
   "execution_count": 2,
   "id": "8166b5b1",
   "metadata": {},
   "outputs": [],
   "source": [
    "from pyspark.sql import SparkSession"
   ]
  },
  {
   "cell_type": "code",
   "execution_count": 3,
   "id": "691a410a",
   "metadata": {},
   "outputs": [
    {
     "name": "stderr",
     "output_type": "stream",
     "text": [
      "Setting default log level to \"WARN\".\n",
      "To adjust logging level use sc.setLogLevel(newLevel). For SparkR, use setLogLevel(newLevel).\n"
     ]
    },
    {
     "name": "stdout",
     "output_type": "stream",
     "text": [
      "23/01/27 19:55:47 WARN NativeCodeLoader: Unable to load native-hadoop library for your platform... using builtin-java classes where applicable\n",
      "23/01/27 19:55:48 WARN Utils: Service 'SparkUI' could not bind on port 4040. Attempting port 4041.\n"
     ]
    }
   ],
   "source": [
    "# Create the sparksession\n",
    "spark = SparkSession.builder.appName(\"Grad\").getOrCreate()"
   ]
  },
  {
   "cell_type": "code",
   "execution_count": 4,
   "id": "82069204",
   "metadata": {},
   "outputs": [
    {
     "data": {
      "text/html": [
       "\n",
       "            <div>\n",
       "                <p><b>SparkSession - in-memory</b></p>\n",
       "                \n",
       "        <div>\n",
       "            <p><b>SparkContext</b></p>\n",
       "\n",
       "            <p><a href=\"http://venkatas-mbp-2.lan:4041\">Spark UI</a></p>\n",
       "\n",
       "            <dl>\n",
       "              <dt>Version</dt>\n",
       "                <dd><code>v3.3.1</code></dd>\n",
       "              <dt>Master</dt>\n",
       "                <dd><code>local[*]</code></dd>\n",
       "              <dt>AppName</dt>\n",
       "                <dd><code>Grad</code></dd>\n",
       "            </dl>\n",
       "        </div>\n",
       "        \n",
       "            </div>\n",
       "        "
      ],
      "text/plain": [
       "<pyspark.sql.session.SparkSession at 0x7f9af1c3a4f0>"
      ]
     },
     "execution_count": 4,
     "metadata": {},
     "output_type": "execute_result"
    }
   ],
   "source": [
    "spark"
   ]
  },
  {
   "cell_type": "code",
   "execution_count": 5,
   "id": "15733dca",
   "metadata": {},
   "outputs": [
    {
     "name": "stderr",
     "output_type": "stream",
     "text": [
      "                                                                                \r"
     ]
    }
   ],
   "source": [
    "# Read the dataset\n",
    "grad_df = spark.read.csv('Admission_Predict_Ver1.1.csv',header = True,inferSchema = True)"
   ]
  },
  {
   "cell_type": "code",
   "execution_count": 7,
   "id": "93f0abef",
   "metadata": {},
   "outputs": [
    {
     "name": "stdout",
     "output_type": "stream",
     "text": [
      "+----------+---------+-----------+-----------------+---+----+----+--------+----------------+\n",
      "|Serial No.|GRE Score|TOEFL Score|University Rating|SOP|LOR |CGPA|Research|Chance of Admit |\n",
      "+----------+---------+-----------+-----------------+---+----+----+--------+----------------+\n",
      "|         1|      337|        118|                4|4.5| 4.5|9.65|       1|            0.92|\n",
      "|         2|      324|        107|                4|4.0| 4.5|8.87|       1|            0.76|\n",
      "|         3|      316|        104|                3|3.0| 3.5| 8.0|       1|            0.72|\n",
      "|         4|      322|        110|                3|3.5| 2.5|8.67|       1|             0.8|\n",
      "|         5|      314|        103|                2|2.0| 3.0|8.21|       0|            0.65|\n",
      "|         6|      330|        115|                5|4.5| 3.0|9.34|       1|             0.9|\n",
      "|         7|      321|        109|                3|3.0| 4.0| 8.2|       1|            0.75|\n",
      "|         8|      308|        101|                2|3.0| 4.0| 7.9|       0|            0.68|\n",
      "|         9|      302|        102|                1|2.0| 1.5| 8.0|       0|             0.5|\n",
      "|        10|      323|        108|                3|3.5| 3.0| 8.6|       0|            0.45|\n",
      "|        11|      325|        106|                3|3.5| 4.0| 8.4|       1|            0.52|\n",
      "|        12|      327|        111|                4|4.0| 4.5| 9.0|       1|            0.84|\n",
      "|        13|      328|        112|                4|4.0| 4.5| 9.1|       1|            0.78|\n",
      "|        14|      307|        109|                3|4.0| 3.0| 8.0|       1|            0.62|\n",
      "|        15|      311|        104|                3|3.5| 2.0| 8.2|       1|            0.61|\n",
      "|        16|      314|        105|                3|3.5| 2.5| 8.3|       0|            0.54|\n",
      "|        17|      317|        107|                3|4.0| 3.0| 8.7|       0|            0.66|\n",
      "|        18|      319|        106|                3|4.0| 3.0| 8.0|       1|            0.65|\n",
      "|        19|      318|        110|                3|4.0| 3.0| 8.8|       0|            0.63|\n",
      "|        20|      303|        102|                3|3.5| 3.0| 8.5|       0|            0.62|\n",
      "+----------+---------+-----------+-----------------+---+----+----+--------+----------------+\n",
      "only showing top 20 rows\n",
      "\n"
     ]
    }
   ],
   "source": [
    "# View the data\n",
    "grad_df.show()"
   ]
  },
  {
   "cell_type": "code",
   "execution_count": 9,
   "id": "95ff29cf",
   "metadata": {},
   "outputs": [
    {
     "name": "stdout",
     "output_type": "stream",
     "text": [
      "(500, 9)\n"
     ]
    }
   ],
   "source": [
    "# Size of the dataset\n",
    "print((grad_df.count(),len(grad_df.columns)))"
   ]
  },
  {
   "cell_type": "code",
   "execution_count": 10,
   "id": "c71d6717",
   "metadata": {},
   "outputs": [
    {
     "name": "stdout",
     "output_type": "stream",
     "text": [
      "root\n",
      " |-- Serial No.: integer (nullable = true)\n",
      " |-- GRE Score: integer (nullable = true)\n",
      " |-- TOEFL Score: integer (nullable = true)\n",
      " |-- University Rating: integer (nullable = true)\n",
      " |-- SOP: double (nullable = true)\n",
      " |-- LOR : double (nullable = true)\n",
      " |-- CGPA: double (nullable = true)\n",
      " |-- Research: integer (nullable = true)\n",
      " |-- Chance of Admit : double (nullable = true)\n",
      "\n"
     ]
    }
   ],
   "source": [
    "# Print Schema\n",
    "grad_df.printSchema()"
   ]
  },
  {
   "cell_type": "code",
   "execution_count": 14,
   "id": "df6ad036",
   "metadata": {},
   "outputs": [
    {
     "name": "stdout",
     "output_type": "stream",
     "text": [
      "+-------+-----------------+------------------+-----------------+-----------------+------------------+------------------+------------------+------------------+-------------------+\n",
      "|summary|       Serial No.|         GRE Score|      TOEFL Score|University Rating|               SOP|              LOR |              CGPA|          Research|   Chance of Admit |\n",
      "+-------+-----------------+------------------+-----------------+-----------------+------------------+------------------+------------------+------------------+-------------------+\n",
      "|  count|              500|               500|              500|              500|               500|               500|               500|               500|                500|\n",
      "|   mean|            250.5|           316.472|          107.192|            3.114|             3.374|             3.484| 8.576440000000003|              0.56| 0.7217399999999996|\n",
      "| stddev|144.4818327679989|11.295148372354712|6.081867659564538|1.143511800759815|0.9910036207566072|0.9254495738978191|0.6048128003332054|0.4968840786090358|0.14114040395030228|\n",
      "|    min|                1|               290|               92|                1|               1.0|               1.0|               6.8|                 0|               0.34|\n",
      "|    max|              500|               340|              120|                5|               5.0|               5.0|              9.92|                 1|               0.97|\n",
      "+-------+-----------------+------------------+-----------------+-----------------+------------------+------------------+------------------+------------------+-------------------+\n",
      "\n"
     ]
    }
   ],
   "source": [
    "# Statistics of the grad data\n",
    "grad_df.describe().show()"
   ]
  },
  {
   "cell_type": "code",
   "execution_count": 21,
   "id": "bac7c8b1",
   "metadata": {},
   "outputs": [],
   "source": [
    "# drop the unnecessary column\n",
    "grad_df = grad_df.drop('Serial No.')"
   ]
  },
  {
   "cell_type": "code",
   "execution_count": 22,
   "id": "0234cda5",
   "metadata": {},
   "outputs": [
    {
     "name": "stdout",
     "output_type": "stream",
     "text": [
      "+---------+-----------+-----------------+---+----+----+--------+----------------+\n",
      "|GRE Score|TOEFL Score|University Rating|SOP|LOR |CGPA|Research|Chance of Admit |\n",
      "+---------+-----------+-----------------+---+----+----+--------+----------------+\n",
      "|      337|        118|                4|4.5| 4.5|9.65|       1|            0.92|\n",
      "|      324|        107|                4|4.0| 4.5|8.87|       1|            0.76|\n",
      "|      316|        104|                3|3.0| 3.5| 8.0|       1|            0.72|\n",
      "|      322|        110|                3|3.5| 2.5|8.67|       1|             0.8|\n",
      "|      314|        103|                2|2.0| 3.0|8.21|       0|            0.65|\n",
      "|      330|        115|                5|4.5| 3.0|9.34|       1|             0.9|\n",
      "|      321|        109|                3|3.0| 4.0| 8.2|       1|            0.75|\n",
      "|      308|        101|                2|3.0| 4.0| 7.9|       0|            0.68|\n",
      "|      302|        102|                1|2.0| 1.5| 8.0|       0|             0.5|\n",
      "|      323|        108|                3|3.5| 3.0| 8.6|       0|            0.45|\n",
      "|      325|        106|                3|3.5| 4.0| 8.4|       1|            0.52|\n",
      "|      327|        111|                4|4.0| 4.5| 9.0|       1|            0.84|\n",
      "|      328|        112|                4|4.0| 4.5| 9.1|       1|            0.78|\n",
      "|      307|        109|                3|4.0| 3.0| 8.0|       1|            0.62|\n",
      "|      311|        104|                3|3.5| 2.0| 8.2|       1|            0.61|\n",
      "|      314|        105|                3|3.5| 2.5| 8.3|       0|            0.54|\n",
      "|      317|        107|                3|4.0| 3.0| 8.7|       0|            0.66|\n",
      "|      319|        106|                3|4.0| 3.0| 8.0|       1|            0.65|\n",
      "|      318|        110|                3|4.0| 3.0| 8.8|       0|            0.63|\n",
      "|      303|        102|                3|3.5| 3.0| 8.5|       0|            0.62|\n",
      "+---------+-----------+-----------------+---+----+----+--------+----------------+\n",
      "only showing top 20 rows\n",
      "\n"
     ]
    }
   ],
   "source": [
    "# display the dataframe\n",
    "grad_df.show()"
   ]
  },
  {
   "cell_type": "code",
   "execution_count": 23,
   "id": "b86eab38",
   "metadata": {},
   "outputs": [
    {
     "name": "stdout",
     "output_type": "stream",
     "text": [
      "GRE Score: 0\n",
      "TOEFL Score: 0\n",
      "University Rating: 0\n",
      "SOP: 0\n",
      "LOR : 0\n",
      "CGPA: 0\n",
      "Research: 0\n",
      "Chance of Admit : 0\n"
     ]
    }
   ],
   "source": [
    "#Check for null values\n",
    "for i in grad_df.columns:\n",
    "    print(i+\":\",grad_df[grad_df[i].isNull()].count())"
   ]
  },
  {
   "cell_type": "code",
   "execution_count": 26,
   "id": "1ff839f3",
   "metadata": {},
   "outputs": [
    {
     "name": "stdout",
     "output_type": "stream",
     "text": [
      "Correlation to chance of admit for GRE Score is 0.8103506354632598 \n",
      "Correlation to chance of admit for TOEFL Score is 0.7922276143050823 \n",
      "Correlation to chance of admit for University Rating is 0.6901323687886892 \n",
      "Correlation to chance of admit for SOP is 0.6841365241316723 \n",
      "Correlation to chance of admit for LOR  is 0.6453645135280112 \n",
      "Correlation to chance of admit for CGPA is 0.882412574904574 \n",
      "Correlation to chance of admit for Research is 0.5458710294711379 \n",
      "Correlation to chance of admit for Chance of Admit  is 1.0 \n"
     ]
    }
   ],
   "source": [
    "# Correlation Analysis\n",
    "for col in grad_df.columns:\n",
    "    print(\"Correlation to chance of admit for {} is {} \".format(col,grad_df.stat.corr(\"Chance of Admit \",col)))"
   ]
  },
  {
   "cell_type": "code",
   "execution_count": 28,
   "id": "330cb60d",
   "metadata": {},
   "outputs": [],
   "source": [
    "# feature selection\n",
    "from pyspark.ml.feature import VectorAssembler\n",
    "featureassembler = VectorAssembler(inputCols = ['GRE Score','TOEFL Score','CGPA'],outputCol = 'feature')"
   ]
  },
  {
   "cell_type": "code",
   "execution_count": 29,
   "id": "35aa658a",
   "metadata": {},
   "outputs": [
    {
     "name": "stdout",
     "output_type": "stream",
     "text": [
      "+---------+-----------+-----------------+---+----+----+--------+----------------+------------------+\n",
      "|GRE Score|TOEFL Score|University Rating|SOP|LOR |CGPA|Research|Chance of Admit |           feature|\n",
      "+---------+-----------+-----------------+---+----+----+--------+----------------+------------------+\n",
      "|      337|        118|                4|4.5| 4.5|9.65|       1|            0.92|[337.0,118.0,9.65]|\n",
      "|      324|        107|                4|4.0| 4.5|8.87|       1|            0.76|[324.0,107.0,8.87]|\n",
      "|      316|        104|                3|3.0| 3.5| 8.0|       1|            0.72| [316.0,104.0,8.0]|\n",
      "|      322|        110|                3|3.5| 2.5|8.67|       1|             0.8|[322.0,110.0,8.67]|\n",
      "|      314|        103|                2|2.0| 3.0|8.21|       0|            0.65|[314.0,103.0,8.21]|\n",
      "|      330|        115|                5|4.5| 3.0|9.34|       1|             0.9|[330.0,115.0,9.34]|\n",
      "|      321|        109|                3|3.0| 4.0| 8.2|       1|            0.75| [321.0,109.0,8.2]|\n",
      "|      308|        101|                2|3.0| 4.0| 7.9|       0|            0.68| [308.0,101.0,7.9]|\n",
      "|      302|        102|                1|2.0| 1.5| 8.0|       0|             0.5| [302.0,102.0,8.0]|\n",
      "|      323|        108|                3|3.5| 3.0| 8.6|       0|            0.45| [323.0,108.0,8.6]|\n",
      "|      325|        106|                3|3.5| 4.0| 8.4|       1|            0.52| [325.0,106.0,8.4]|\n",
      "|      327|        111|                4|4.0| 4.5| 9.0|       1|            0.84| [327.0,111.0,9.0]|\n",
      "|      328|        112|                4|4.0| 4.5| 9.1|       1|            0.78| [328.0,112.0,9.1]|\n",
      "|      307|        109|                3|4.0| 3.0| 8.0|       1|            0.62| [307.0,109.0,8.0]|\n",
      "|      311|        104|                3|3.5| 2.0| 8.2|       1|            0.61| [311.0,104.0,8.2]|\n",
      "|      314|        105|                3|3.5| 2.5| 8.3|       0|            0.54| [314.0,105.0,8.3]|\n",
      "|      317|        107|                3|4.0| 3.0| 8.7|       0|            0.66| [317.0,107.0,8.7]|\n",
      "|      319|        106|                3|4.0| 3.0| 8.0|       1|            0.65| [319.0,106.0,8.0]|\n",
      "|      318|        110|                3|4.0| 3.0| 8.8|       0|            0.63| [318.0,110.0,8.8]|\n",
      "|      303|        102|                3|3.5| 3.0| 8.5|       0|            0.62| [303.0,102.0,8.5]|\n",
      "+---------+-----------+-----------------+---+----+----+--------+----------------+------------------+\n",
      "only showing top 20 rows\n",
      "\n"
     ]
    }
   ],
   "source": [
    "output_data = featureassembler.transform(grad_df)\n",
    "output_data.show()"
   ]
  },
  {
   "cell_type": "code",
   "execution_count": 31,
   "id": "e25059bf",
   "metadata": {},
   "outputs": [],
   "source": [
    "# import linear-regression and create final dataframe\n",
    "from pyspark.ml.regression import LinearRegression\n",
    "final_data = output_data.select('feature','Chance of Admit ')"
   ]
  },
  {
   "cell_type": "code",
   "execution_count": 32,
   "id": "6a6e1450",
   "metadata": {},
   "outputs": [
    {
     "name": "stdout",
     "output_type": "stream",
     "text": [
      "root\n",
      " |-- feature: vector (nullable = true)\n",
      " |-- Chance of Admit : double (nullable = true)\n",
      "\n"
     ]
    }
   ],
   "source": [
    "# Print schema of final data\n",
    "final_data.printSchema()"
   ]
  },
  {
   "cell_type": "code",
   "execution_count": 33,
   "id": "3c19de65",
   "metadata": {},
   "outputs": [],
   "source": [
    "# Split the dataset into train and test\n",
    "train,test = final_data.randomSplit([0.75,0.25])"
   ]
  },
  {
   "cell_type": "code",
   "execution_count": 40,
   "id": "8031ef60",
   "metadata": {},
   "outputs": [
    {
     "name": "stdout",
     "output_type": "stream",
     "text": [
      "23/01/27 22:12:17 WARN Instrumentation: [17c734d6] regParam is zero, which might cause numerical instability and overfitting.\n",
      "23/01/27 22:12:18 WARN InstanceBuilder$NativeBLAS: Failed to load implementation from:dev.ludovic.netlib.blas.JNIBLAS\n",
      "23/01/27 22:12:18 WARN InstanceBuilder$NativeBLAS: Failed to load implementation from:dev.ludovic.netlib.blas.ForeignLinkerBLAS\n",
      "23/01/27 22:12:18 WARN InstanceBuilder$NativeLAPACK: Failed to load implementation from:dev.ludovic.netlib.lapack.JNILAPACK\n"
     ]
    }
   ],
   "source": [
    "# Build and train the model\n",
    "models = LinearRegression(featuresCol = 'feature',labelCol = 'Chance of Admit ')\n",
    "model = models.fit(train)"
   ]
  },
  {
   "cell_type": "code",
   "execution_count": 43,
   "id": "bc81d263",
   "metadata": {},
   "outputs": [
    {
     "name": "stdout",
     "output_type": "stream",
     "text": [
      "coefficients:  [0.0026377217079742864,0.0025727859947345024,0.14288173079622432]\n"
     ]
    }
   ],
   "source": [
    "# Coefficients \n",
    "print(\"coefficients: \",model.coefficients)"
   ]
  },
  {
   "cell_type": "code",
   "execution_count": 44,
   "id": "c6a3dc0b",
   "metadata": {},
   "outputs": [
    {
     "name": "stdout",
     "output_type": "stream",
     "text": [
      "Intercept:  -1.6122002303911394\n"
     ]
    }
   ],
   "source": [
    "# Intercept \n",
    "print(\"Intercept: \",model.intercept)"
   ]
  },
  {
   "cell_type": "code",
   "execution_count": 48,
   "id": "1a80e056",
   "metadata": {},
   "outputs": [],
   "source": [
    "# get the summary\n",
    "summary = model.summary\n"
   ]
  },
  {
   "cell_type": "code",
   "execution_count": 49,
   "id": "27c11de3",
   "metadata": {},
   "outputs": [
    {
     "name": "stdout",
     "output_type": "stream",
     "text": [
      "The RMSE :  0.05907235939505537\n"
     ]
    }
   ],
   "source": [
    "#print RMSE\n",
    "print(\"The RMSE : \", summary.rootMeanSquaredError)"
   ]
  },
  {
   "cell_type": "code",
   "execution_count": 51,
   "id": "659f0d82",
   "metadata": {},
   "outputs": [
    {
     "name": "stdout",
     "output_type": "stream",
     "text": [
      "The r2 score is :  0.8195228518067821\n"
     ]
    }
   ],
   "source": [
    "# print r2 score\n",
    "print(\"The r2 score is : \",summary.r2)"
   ]
  },
  {
   "cell_type": "code",
   "execution_count": 52,
   "id": "6492401c",
   "metadata": {},
   "outputs": [],
   "source": [
    "# transform the test data\n",
    "predictions = model.transform(test)"
   ]
  },
  {
   "cell_type": "code",
   "execution_count": 53,
   "id": "87e4132f",
   "metadata": {},
   "outputs": [
    {
     "name": "stdout",
     "output_type": "stream",
     "text": [
      "+------------------+----------------+-------------------+\n",
      "|           feature|Chance of Admit |         prediction|\n",
      "+------------------+----------------+-------------------+\n",
      "| [294.0,95.0,7.64]|            0.49| 0.4993210445362324|\n",
      "|[295.0,101.0,7.86]|            0.69|  0.548829462987783|\n",
      "|[296.0,101.0,7.68]|             0.6| 0.5257484731524367|\n",
      "| [297.0,96.0,7.43]|            0.34| 0.4798018321876827|\n",
      "| [297.0,96.0,7.89]|            0.43| 0.5455274283539457|\n",
      "| [298.0,97.0,7.21]|            0.45|0.45357835911522204|\n",
      "| [299.0,96.0,7.86]|            0.54| 0.5465164198460075|\n",
      "|[299.0,100.0,8.02]|            0.63| 0.5796686407523415|\n",
      "|[300.0,100.0,8.26]|            0.62| 0.6165979778514095|\n",
      "|[300.0,102.0,8.17]|            0.63| 0.6088841940692185|\n",
      "|[300.0,104.0,8.16]|            0.71| 0.6126009487507249|\n",
      "|[301.0,106.0,8.47]|            0.57| 0.6646775789949981|\n",
      "|[304.0,101.0,7.66]|            0.38| 0.5439926122003069|\n",
      "|[304.0,103.0,7.92]|            0.71| 0.5862874341967939|\n",
      "| [304.0,105.0,8.2]|            0.54| 0.6314398908092056|\n",
      "|[304.0,107.0,7.86]|            0.57| 0.5880056743279589|\n",
      "| [305.0,96.0,8.26]|            0.54| 0.6194954424123431|\n",
      "|[305.0,102.0,7.64]|            0.59| 0.5463454852870913|\n",
      "|[305.0,105.0,8.13]|            0.66| 0.6240758913614448|\n",
      "| [307.0,101.0,8.2]|            0.47| 0.6290619119541907|\n",
      "+------------------+----------------+-------------------+\n",
      "only showing top 20 rows\n",
      "\n"
     ]
    }
   ],
   "source": [
    "# display predictions\n",
    "predictions.show()"
   ]
  },
  {
   "cell_type": "code",
   "execution_count": 55,
   "id": "5571b7b2",
   "metadata": {},
   "outputs": [],
   "source": [
    "# Evaluate\n",
    "from pyspark.ml.evaluation import RegressionEvaluator\n",
    "evaluator = RegressionEvaluator(predictionCol = 'prediction',labelCol = 'Chance of Admit ',metricName = \"r2\")"
   ]
  },
  {
   "cell_type": "code",
   "execution_count": 59,
   "id": "3a46e1b9",
   "metadata": {},
   "outputs": [
    {
     "name": "stdout",
     "output_type": "stream",
     "text": [
      "r2 score on test data :  0.7599635940123712\n"
     ]
    }
   ],
   "source": [
    "# print the r2 score\n",
    "print(\"r2 score on test data : \",evaluator.evaluate(predictions))"
   ]
  },
  {
   "cell_type": "code",
   "execution_count": null,
   "id": "ce0f618c",
   "metadata": {},
   "outputs": [],
   "source": []
  },
  {
   "cell_type": "code",
   "execution_count": null,
   "id": "a083d533",
   "metadata": {},
   "outputs": [],
   "source": []
  },
  {
   "cell_type": "code",
   "execution_count": null,
   "id": "236d7678",
   "metadata": {},
   "outputs": [],
   "source": []
  },
  {
   "cell_type": "code",
   "execution_count": null,
   "id": "82668f4e",
   "metadata": {},
   "outputs": [],
   "source": []
  },
  {
   "cell_type": "code",
   "execution_count": null,
   "id": "1c23c8d8",
   "metadata": {},
   "outputs": [],
   "source": []
  },
  {
   "cell_type": "code",
   "execution_count": null,
   "id": "a5c6ff1e",
   "metadata": {},
   "outputs": [],
   "source": []
  }
 ],
 "metadata": {
  "kernelspec": {
   "display_name": "Python 3 (ipykernel)",
   "language": "python",
   "name": "python3"
  },
  "language_info": {
   "codemirror_mode": {
    "name": "ipython",
    "version": 3
   },
   "file_extension": ".py",
   "mimetype": "text/x-python",
   "name": "python",
   "nbconvert_exporter": "python",
   "pygments_lexer": "ipython3",
   "version": "3.9.12"
  }
 },
 "nbformat": 4,
 "nbformat_minor": 5
}
